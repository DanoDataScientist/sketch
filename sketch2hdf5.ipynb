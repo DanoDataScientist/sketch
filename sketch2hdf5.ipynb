{
 "cells": [
  {
   "cell_type": "code",
   "execution_count": 1,
   "metadata": {},
   "outputs": [],
   "source": [
    "import os\n",
    "import pandas as pd\n",
    "import numpy as np\n",
    "%matplotlib inline\n",
    "from matplotlib import pylab as plt\n",
    "import cPickle as pickle\n",
    "import itertools\n",
    "from matplotlib.path import Path\n",
    "import matplotlib.patches as patches"
   ]
  },
  {
   "cell_type": "code",
   "execution_count": 2,
   "metadata": {},
   "outputs": [
    {
     "name": "stderr",
     "output_type": "stream",
     "text": [
      "Using gpu device 0: GeForce GTX 980\n"
     ]
    }
   ],
   "source": [
    "from fuel.datasets.hdf5 import H5PYDataset\n",
    "import fuel\n",
    "datasource = 'sketch'\n",
    "datasource_dir = os.path.join(fuel.config.data_path, datasource)\n",
    "datasource_fname = os.path.join(datasource_dir , datasource+'.hdf5')"
   ]
  },
  {
   "cell_type": "code",
   "execution_count": 3,
   "metadata": {},
   "outputs": [],
   "source": [
    "!mkdir -p {datasource_dir}"
   ]
  },
  {
   "cell_type": "markdown",
   "metadata": {},
   "source": [
    "#Download"
   ]
  },
  {
   "cell_type": "markdown",
   "metadata": {},
   "source": [
    "Download human sketches stored in SVG from the work of\n",
    "\n",
    "    Eitz, Mathias and Hays, James and Alexa, Marc, \"How Do Humans Sketch Objects?\", ACM Transactions on Graphics (Proceedings SIGGRAPH), 2012, Volume 31, Number 4, pages 44:1--44:10"
   ]
  },
  {
   "cell_type": "raw",
   "metadata": {}
  },
  {
   "cell_type": "code",
   "execution_count": 4,
   "metadata": {},
   "outputs": [],
   "source": [
    "import scipy.io\n",
    "import os\n",
    "\n",
    "m = scipy.io.loadmat(os.path.join(datasource_dir,'sketches_matlab/sketches.mat'))"
   ]
  },
  {
   "cell_type": "code",
   "execution_count": 5,
   "metadata": {},
   "outputs": [
    {
     "data": {
      "text/plain": [
       "(20000, 3)"
      ]
     },
     "execution_count": 5,
     "output_type": "execute_result",
     "metadata": {}
    }
   ],
   "source": [
    "sketches = m['D']\n",
    "sketches.shape"
   ]
  },
  {
   "cell_type": "markdown",
   "metadata": {},
   "source": [
    "#Read SVG matlab"
   ]
  },
  {
   "cell_type": "code",
   "execution_count": 6,
   "metadata": {},
   "outputs": [],
   "source": [
    "def imgpoints(img):\n",
    "    points = []\n",
    "    \n",
    "    strikes = sketches[img,2][:,0]\n",
    "    lastx = lasty = 0\n",
    "    for i in range(5,len(strikes)-3):\n",
    "        s = strikes[i][0]\n",
    "        j = s.find('d=\"M')\n",
    "        assert j >=0\n",
    "        s = s[j+len('d=\"M'):]\n",
    "        assert s.endswith('\"/>')\n",
    "        s = s[:-len('\"/>')]\n",
    "        s = s.replace('C',' ').replace('L',' ').replace(',',' ')\n",
    "        s = s.split()\n",
    "        s = map(float,s)\n",
    "        assert len(s) % 2 == 0\n",
    "        count = 0\n",
    "        for j in range(0,len(s),2):\n",
    "            x, y = s[j],s[j+1]\n",
    "            if np.isnan(x) or np.isnan(y):\n",
    "                assert np.isnan(x) and np.isnan(y)\n",
    "                continue\n",
    "            points.append((x-lastx,y-lasty,count == 0))\n",
    "            count += 1\n",
    "            lastx,lasty = x,y\n",
    "        assert count > 1\n",
    "    return np.array(points[1:])"
   ]
  },
  {
   "cell_type": "code",
   "execution_count": 7,
   "metadata": {},
   "outputs": [],
   "source": [
    "sketches_arrays = []\n",
    "for img in xrange(len(sketches)):\n",
    "    sketch = imgpoints(img)[1:]\n",
    "    sketches_arrays.append(sketch)"
   ]
  },
  {
   "cell_type": "markdown",
   "metadata": {},
   "source": [
    "##filter long sketches"
   ]
  },
  {
   "cell_type": "code",
   "execution_count": 8,
   "metadata": {},
   "outputs": [],
   "source": [
    "lens = map(len, sketches_arrays)"
   ]
  },
  {
   "cell_type": "code",
   "execution_count": 9,
   "metadata": {},
   "outputs": [
    {
     "data": {
      "text/plain": [
       "(17, 3959)"
      ]
     },
     "execution_count": 9,
     "output_type": "execute_result",
     "metadata": {}
    }
   ],
   "source": [
    "min(lens), max(lens)"
   ]
  },
  {
   "cell_type": "code",
   "execution_count": 10,
   "metadata": {},
   "outputs": [
    {
     "data": {
      "image/png": "[encoded data removed]"
     },
     "output_type": "display_data",
     "metadata": {}
    }
   ],
   "source": [
    "plt.hist(lens,bins=50)\n",
    "plt.xlabel('#points')\n",
    "plt.ylabel('#sketches')\n",
    "plt.title('Distribution of number of points in a sketch');"
   ]
  },
  {
   "cell_type": "code",
   "execution_count": 11,
   "metadata": {},
   "outputs": [
    {
     "data": {
      "text/plain": [
       "19885"
      ]
     },
     "execution_count": 11,
     "output_type": "execute_result",
     "metadata": {}
    }
   ],
   "source": [
    "sketches_arrays_idx = filter(lambda i: len(sketches_arrays[i])<1200, range(len(sketches_arrays)))\n",
    "N = len(sketches_arrays_idx)\n",
    "N"
   ]
  },
  {
   "cell_type": "markdown",
   "metadata": {},
   "source": [
    "##normalize"
   ]
  },
  {
   "cell_type": "code",
   "execution_count": 12,
   "metadata": {},
   "outputs": [
    {
     "data": {
      "text/plain": [
       "(5693675, 2)"
      ]
     },
     "execution_count": 12,
     "output_type": "execute_result",
     "metadata": {}
    }
   ],
   "source": [
    "xys = np.vstack([sketches_arrays[i][:,:2] for i in sketches_arrays_idx])\n",
    "xys.shape"
   ]
  },
  {
   "cell_type": "code",
   "execution_count": 13,
   "metadata": {},
   "outputs": [
    {
     "data": {
      "text/plain": [
       "22.718561804436927"
      ]
     },
     "execution_count": 13,
     "output_type": "execute_result",
     "metadata": {}
    }
   ],
   "source": [
    "s = xys.std()\n",
    "s"
   ]
  },
  {
   "cell_type": "code",
   "execution_count": 14,
   "metadata": {},
   "outputs": [],
   "source": [
    "X = np.empty((N,1200,3))\n",
    "for i,j in enumerate(sketches_arrays_idx):\n",
    "    p = sketches_arrays[j]\n",
    "    n = len(p)\n",
    "    X[i,:n,:2] = p[:,:2]/s\n",
    "    X[i,n:,:2] = 0\n",
    "    X[i,:n,2] =  p[:,2]\n",
    "    X[i,n:,2] = 1"
   ]
  },
  {
   "cell_type": "code",
   "execution_count": 15,
   "metadata": {},
   "outputs": [
    {
     "data": {
      "text/plain": [
       "(19885, 1200, 3)"
      ]
     },
     "execution_count": 15,
     "output_type": "execute_result",
     "metadata": {}
    }
   ],
   "source": [
    "X.shape"
   ]
  },
  {
   "cell_type": "markdown",
   "metadata": {},
   "source": [
    "##shuffle"
   ]
  },
  {
   "cell_type": "code",
   "execution_count": 16,
   "metadata": {},
   "outputs": [],
   "source": [
    "import random\n",
    "X = X[random.sample(xrange(N),N)]"
   ]
  },
  {
   "cell_type": "markdown",
   "metadata": {},
   "source": [
    "##Save in HDF5"
   ]
  },
  {
   "cell_type": "code",
   "execution_count": 17,
   "metadata": {},
   "outputs": [],
   "source": [
    "!rm {datasource_fname}"
   ]
  },
  {
   "cell_type": "code",
   "execution_count": 18,
   "metadata": {},
   "outputs": [],
   "source": [
    "import h5py\n",
    "fp = h5py.File(datasource_fname, mode='w')\n",
    "image_features = fp.create_dataset('features', X.shape, dtype='float32')"
   ]
  },
  {
   "cell_type": "code",
   "execution_count": 19,
   "metadata": {},
   "outputs": [],
   "source": [
    "image_features[...] = X"
   ]
  },
  {
   "cell_type": "code",
   "execution_count": 20,
   "metadata": {},
   "outputs": [
    {
     "data": {
      "text/plain": [
       "17896"
      ]
     },
     "execution_count": 20,
     "output_type": "execute_result",
     "metadata": {}
    }
   ],
   "source": [
    "N_train = int(9*len(X)/10)\n",
    "N_train"
   ]
  },
  {
   "cell_type": "code",
   "execution_count": 21,
   "metadata": {},
   "outputs": [],
   "source": [
    "split_dict = {\n",
    "    'train': {'features': (0, N_train)},\n",
    "    'test': {'features': (N_train, N)}\n",
    "}\n",
    "fp.attrs['split'] = H5PYDataset.create_split_array(split_dict)"
   ]
  },
  {
   "cell_type": "code",
   "execution_count": 22,
   "metadata": {},
   "outputs": [],
   "source": [
    "fp.flush()\n",
    "fp.close()"
   ]
  },
  {
   "cell_type": "markdown",
   "metadata": {},
   "source": [
    "#Test"
   ]
  },
  {
   "cell_type": "code",
   "execution_count": 23,
   "metadata": {},
   "outputs": [],
   "source": [
    "train_set = H5PYDataset(datasource_fname, which_set='train')"
   ]
  },
  {
   "cell_type": "code",
   "execution_count": 24,
   "metadata": {},
   "outputs": [
    {
     "data": {
      "text/plain": [
       "17896"
      ]
     },
     "execution_count": 24,
     "output_type": "execute_result",
     "metadata": {}
    }
   ],
   "source": [
    "train_set.num_examples"
   ]
  },
  {
   "cell_type": "code",
   "execution_count": 25,
   "metadata": {},
   "outputs": [
    {
     "data": {
      "text/plain": [
       "((16, 1200, 3), dtype('float32'), 17.430681)"
      ]
     },
     "execution_count": 25,
     "output_type": "execute_result",
     "metadata": {}
    }
   ],
   "source": [
    "handle = train_set.open()\n",
    "data = train_set.get_data(handle, slice(0, 16))\n",
    "data[0].shape, data[0].dtype, data[0].max()"
   ]
  },
  {
   "cell_type": "code",
   "execution_count": 26,
   "metadata": {},
   "outputs": [],
   "source": [
    "train_set.close(handle)"
   ]
  },
  {
   "cell_type": "code",
   "execution_count": 27,
   "metadata": {},
   "outputs": [
    {
     "name": "stderr",
     "output_type": "stream",
     "text": [
      "/Users/udi/anaconda/lib/python2.7/site-packages/matplotlib/__init__.py:1318: UserWarning:  This call to matplotlib.use() has no effect\n",
      "because the backend has already been chosen;\n",
      "matplotlib.use() must be called *before* pylab, matplotlib.pyplot,\n",
      "or matplotlib.backends is imported for the first time.\n",
      "\n",
      "  warnings.warn(_use_error_msg)\n"
     ]
    }
   ],
   "source": [
    "from sketch import drawpoints"
   ]
  },
  {
   "cell_type": "code",
   "execution_count": 28,
   "metadata": {},
   "outputs": [
    {
     "data": {
      "image/png": "[encoded data removed]"
     },
     "output_type": "display_data",
     "metadata": {}
    }
   ],
   "source": [
    "plt.figure(figsize=(10,10))\n",
    "count = 1\n",
    "M = 4\n",
    "for points in data[0]:\n",
    "    plt.subplot(2,2,count)\n",
    "    count += 1\n",
    "    drawpoints(points)\n",
    "    if count > M: break"
   ]
  }
 ],
 "metadata": {
  "kernelspec": {
   "display_name": "Python 2",
   "language": "python",
   "name": "python2"
  },
  "language_info": {
   "codemirror_mode": {
    "name": "ipython",
    "version": 2.0
   },
   "file_extension": ".py",
   "mimetype": "text/x-python",
   "name": "python",
   "nbconvert_exporter": "python",
   "pygments_lexer": "ipython2",
   "version": "2.7.9"
  }
 },
 "nbformat": 4,
 "nbformat_minor": 0
}